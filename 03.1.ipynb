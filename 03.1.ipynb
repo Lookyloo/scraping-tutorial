{
 "cells": [
  {
   "cell_type": "markdown",
   "metadata": {},
   "source": [
    "# Visualization of a capture\n",
    "\n",
    "We have URLs loading other urls, asynchronously, over a period of time.\n",
    "\n",
    "Why not using a tree for that?\n",
    "\n",
    "## Representation & phylogenetic trees\n",
    "\n",
    "Who knows about trees and representation of trees? Biologists!\n",
    "\n",
    "That's how we landed on [ETE Toolkit](http://etetoolkit.org/), a Python framework for the analysis and visualization of trees.\n",
    "\n",
    "It is a nice library with plenty of cool features we're not going to describe here, because  we're not using the vast majority, and it's not directly relevant for now.\n",
    "\n",
    "**Problem**: The vizualization module was still too limited for what we needed to do.\n",
    "\n",
    "## d3js\n",
    "\n",
    "As much as I hate web development, it is still a lot more pleasant than going the native clients, so the whole UI of the tool I'm going to show you is written in HTML/JS/CSS, and the main vizualization library we used is [d3js](https://d3js.org/), for no specific reason besides the fact it is relatively well documented, maintained, and I used it before.\n",
    "\n",
    "## Lookyloo intro\n",
    "\n",
    "We've seen many tools, and none of them was solving all the problems we wanted to solve:\n",
    "* Full rendering of the page, including execution of javascript, and loading of 3rd party visual contents\n",
    "* Understanding of what's happening when a web page is rendered in a browser\n",
    "* Reproducibility of a capture over time to allow a comparison\n",
    "* Allow to pass initial parameters (referer, user agent, cookies)\n",
    "\n",
    "Play Time!\n",
    "\n",
    "Go to Lookyloo [public instance](https://lookyloo.circl.lu/), make a capture, and investigate it.\n",
    "\n",
    "Then, capture the URLs we used in the 1st part of the course, and see what's happening."
   ]
  }
 ],
 "metadata": {
  "kernelspec": {
   "display_name": "Python 3 (ipykernel)",
   "language": "python",
   "name": "python3"
  },
  "language_info": {
   "codemirror_mode": {
    "name": "ipython",
    "version": 3
   },
   "file_extension": ".py",
   "mimetype": "text/x-python",
   "name": "python",
   "nbconvert_exporter": "python",
   "pygments_lexer": "ipython3",
   "version": "3.9.7"
  }
 },
 "nbformat": 4,
 "nbformat_minor": 4
}
